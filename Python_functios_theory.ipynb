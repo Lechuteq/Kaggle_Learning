{
  "nbformat": 4,
  "nbformat_minor": 0,
  "metadata": {
    "colab": {
      "provenance": [],
      "authorship_tag": "ABX9TyPYlh80G7gORnfF2DI3+cue",
      "include_colab_link": true
    },
    "kernelspec": {
      "name": "python3",
      "display_name": "Python 3"
    },
    "language_info": {
      "name": "python"
    }
  },
  "cells": [
    {
      "cell_type": "markdown",
      "metadata": {
        "id": "view-in-github",
        "colab_type": "text"
      },
      "source": [
        "<a href=\"https://colab.research.google.com/github/Lechuteq/Kaggle_Learning/blob/main/Python_functios_theory.ipynb\" target=\"_parent\"><img src=\"https://colab.research.google.com/assets/colab-badge.svg\" alt=\"Open In Colab\"/></a>"
      ]
    },
    {
      "cell_type": "markdown",
      "source": [
        "Functions"
      ],
      "metadata": {
        "id": "tTGMULbrpQGx"
      }
    },
    {
      "cell_type": "code",
      "source": [
        "# Define the function\n",
        "def add_three(input_var):\n",
        "    output_var = input_var + 3\n",
        "    return output_var"
      ],
      "metadata": {
        "id": "nZrwpilnp-XN"
      },
      "execution_count": 1,
      "outputs": []
    },
    {
      "cell_type": "code",
      "source": [
        "# Run the function with 10 as input\n",
        "new_number = add_three(10)\n",
        "\n",
        "# Check that the value is 13, as expected\n",
        "print(new_number)"
      ],
      "metadata": {
        "colab": {
          "base_uri": "https://localhost:8080/"
        },
        "id": "zac12XSbqKEi",
        "outputId": "4ce0e6ef-b531-401c-efea-df58d3e0256b"
      },
      "execution_count": 2,
      "outputs": [
        {
          "output_type": "stream",
          "name": "stdout",
          "text": [
            "13\n"
          ]
        }
      ]
    },
    {
      "cell_type": "code",
      "source": [
        "def get_pay(num_hours):\n",
        "    # Pre-tax pay, based on receiving $15/hour\n",
        "    pay_pretax = num_hours * 15\n",
        "    # After-tax pay, based on being in 12% tax bracket\n",
        "    pay_aftertax = pay_pretax * (1 - .12)\n",
        "    return pay_aftertax"
      ],
      "metadata": {
        "id": "boDcnSCBqi_9"
      },
      "execution_count": 4,
      "outputs": []
    },
    {
      "cell_type": "code",
      "source": [
        "# Calculate pay based on working 40 hours\n",
        "pay_fulltime = get_pay(40)\n",
        "print(f'{pay_fulltime} $')"
      ],
      "metadata": {
        "colab": {
          "base_uri": "https://localhost:8080/"
        },
        "id": "4qsuf7TxrHH3",
        "outputId": "c5553932-0738-43e1-b0d5-81c91f3dbd8a"
      },
      "execution_count": 9,
      "outputs": [
        {
          "output_type": "stream",
          "name": "stdout",
          "text": [
            "528.0 $\n"
          ]
        }
      ]
    },
    {
      "cell_type": "code",
      "source": [
        "pay_parttime = get_pay(32)\n",
        "print(pay_parttime)"
      ],
      "metadata": {
        "colab": {
          "base_uri": "https://localhost:8080/"
        },
        "id": "wMaHbKWXr34v",
        "outputId": "a60ea454-e585-4b7c-8d74-9852b708bee6"
      },
      "execution_count": 10,
      "outputs": [
        {
          "output_type": "stream",
          "name": "stdout",
          "text": [
            "422.4\n"
          ]
        }
      ]
    },
    {
      "cell_type": "code",
      "source": [
        "#print(pay_aftertax)"
      ],
      "metadata": {
        "id": "ePnPlPyFsM18"
      },
      "execution_count": 12,
      "outputs": []
    },
    {
      "cell_type": "code",
      "source": [
        "def get_pay_with_more_inputs(num_hours, hourly_wage, tax_bracket):\n",
        "    # Pre-tax pay\n",
        "    pay_pretax = num_hours * hourly_wage\n",
        "    # After-tax pay\n",
        "    pay_aftertax = pay_pretax * (1 - tax_bracket)\n",
        "    return pay_aftertax"
      ],
      "metadata": {
        "id": "TGmUUQwYsQVG"
      },
      "execution_count": 13,
      "outputs": []
    },
    {
      "cell_type": "code",
      "source": [
        "higher_pay_aftertax = get_pay_with_more_inputs(40, 24, .22)\n",
        "print(higher_pay_aftertax)"
      ],
      "metadata": {
        "colab": {
          "base_uri": "https://localhost:8080/"
        },
        "id": "Z1tsWyJbsaUU",
        "outputId": "666f57de-18fe-4b59-a16b-f10b92bbf3e1"
      },
      "execution_count": 14,
      "outputs": [
        {
          "output_type": "stream",
          "name": "stdout",
          "text": [
            "748.8000000000001\n"
          ]
        }
      ]
    },
    {
      "cell_type": "code",
      "source": [
        "same_pay_fulltime = get_pay_with_more_inputs(40, 15, .12)\n",
        "print(same_pay_fulltime)"
      ],
      "metadata": {
        "colab": {
          "base_uri": "https://localhost:8080/"
        },
        "id": "ZAZDH0FTsrsd",
        "outputId": "dbb69b16-e597-4a05-c617-0c4e02fdd5a6"
      },
      "execution_count": 16,
      "outputs": [
        {
          "output_type": "stream",
          "name": "stdout",
          "text": [
            "528.0\n"
          ]
        }
      ]
    },
    {
      "cell_type": "code",
      "source": [
        "# Define the function with no arguments and with no return\n",
        "def print_hello():\n",
        "    print(\"Hello, you!\")\n",
        "    print(\"Good morning!\")\n",
        "\n",
        "# Call the function\n",
        "print_hello()"
      ],
      "metadata": {
        "colab": {
          "base_uri": "https://localhost:8080/"
        },
        "id": "-eAoYwTItCsY",
        "outputId": "3cebd905-202c-426c-fb04-8e7a4216b5f9"
      },
      "execution_count": 17,
      "outputs": [
        {
          "output_type": "stream",
          "name": "stdout",
          "text": [
            "Hello, you!\n",
            "Good morning!\n"
          ]
        }
      ]
    }
  ]
}