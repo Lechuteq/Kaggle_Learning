{
  "nbformat": 4,
  "nbformat_minor": 0,
  "metadata": {
    "colab": {
      "provenance": [],
      "authorship_tag": "ABX9TyPqxyQP0Ni3O1k63KCleqOd",
      "include_colab_link": true
    },
    "kernelspec": {
      "name": "python3",
      "display_name": "Python 3"
    },
    "language_info": {
      "name": "python"
    }
  },
  "cells": [
    {
      "cell_type": "markdown",
      "metadata": {
        "id": "view-in-github",
        "colab_type": "text"
      },
      "source": [
        "<a href=\"https://colab.research.google.com/github/Lechuteq/Kaggle_Learning/blob/main/Python_lists_theory.ipynb\" target=\"_parent\"><img src=\"https://colab.research.google.com/assets/colab-badge.svg\" alt=\"Open In Colab\"/></a>"
      ]
    },
    {
      "cell_type": "markdown",
      "source": [
        "Intro to Lists"
      ],
      "metadata": {
        "id": "8p8Zi2e2CjK6"
      }
    },
    {
      "cell_type": "code",
      "source": [
        "flowers = \"pink primrose,hard-leaved pocket orchid,canterbury bells,sweet pea,english marigold,tiger lily,moon orchid,bird of paradise,monkshood,globe thistle\"\n",
        "\n",
        "print(type(flowers))\n",
        "print(flowers)"
      ],
      "metadata": {
        "id": "JyvLth4vClhD",
        "colab": {
          "base_uri": "https://localhost:8080/"
        },
        "outputId": "724cb09c-1f21-441d-f33e-e2a293333b1f"
      },
      "execution_count": 1,
      "outputs": [
        {
          "output_type": "stream",
          "name": "stdout",
          "text": [
            "<class 'str'>\n",
            "pink primrose,hard-leaved pocket orchid,canterbury bells,sweet pea,english marigold,tiger lily,moon orchid,bird of paradise,monkshood,globe thistle\n"
          ]
        }
      ]
    },
    {
      "cell_type": "code",
      "source": [
        "flowers_list = [\"pink primrose\", \"hard-leaved pocket orchid\", \"canterbury bells\", \"sweet pea\", \"english marigold\", \"tiger lily\", \"moon orchid\", \"bird of paradise\", \"monkshood\", \"globe thistle\"]\n",
        "\n",
        "print(type(flowers_list))\n",
        "print(flowers_list)"
      ],
      "metadata": {
        "colab": {
          "base_uri": "https://localhost:8080/"
        },
        "id": "2IqEva5Kpxwt",
        "outputId": "af33bdc9-08f1-47f2-9fdf-96600516a3f4"
      },
      "execution_count": 2,
      "outputs": [
        {
          "output_type": "stream",
          "name": "stdout",
          "text": [
            "<class 'list'>\n",
            "['pink primrose', 'hard-leaved pocket orchid', 'canterbury bells', 'sweet pea', 'english marigold', 'tiger lily', 'moon orchid', 'bird of paradise', 'monkshood', 'globe thistle']\n"
          ]
        }
      ]
    },
    {
      "cell_type": "code",
      "source": [
        "# The list has ten entries\n",
        "print(len(flowers_list))"
      ],
      "metadata": {
        "colab": {
          "base_uri": "https://localhost:8080/"
        },
        "id": "sQoRwlmYqTaP",
        "outputId": "a1d9ccd9-af22-41c1-d0d3-f8994af2e1d1"
      },
      "execution_count": 3,
      "outputs": [
        {
          "output_type": "stream",
          "name": "stdout",
          "text": [
            "10\n"
          ]
        }
      ]
    },
    {
      "cell_type": "code",
      "source": [
        "print(\"First entry:\", flowers_list[0])\n",
        "print(\"Second entry:\", flowers_list[1])\n",
        "\n",
        "# The list has length ten, so we refer to final entry with 9\n",
        "print(\"Last entry:\", flowers_list[9])"
      ],
      "metadata": {
        "colab": {
          "base_uri": "https://localhost:8080/"
        },
        "id": "TNG4myCqqUv-",
        "outputId": "dcf13ba8-7395-4189-b684-ba137ca88e6e"
      },
      "execution_count": 4,
      "outputs": [
        {
          "output_type": "stream",
          "name": "stdout",
          "text": [
            "First entry: pink primrose\n",
            "Second entry: hard-leaved pocket orchid\n",
            "Last entry: globe thistle\n"
          ]
        }
      ]
    },
    {
      "cell_type": "code",
      "source": [
        "print(\"First three entries:\", flowers_list[:3])\n",
        "print(\"Final two entries:\", flowers_list[-2:])"
      ],
      "metadata": {
        "colab": {
          "base_uri": "https://localhost:8080/"
        },
        "id": "yMskPJiYqfPk",
        "outputId": "a27e5e49-b826-43f1-db5a-3166f89b09c8"
      },
      "execution_count": 5,
      "outputs": [
        {
          "output_type": "stream",
          "name": "stdout",
          "text": [
            "First three entries: ['pink primrose', 'hard-leaved pocket orchid', 'canterbury bells']\n",
            "Final two entries: ['monkshood', 'globe thistle']\n"
          ]
        }
      ]
    },
    {
      "cell_type": "code",
      "source": [
        "flowers_list.remove(\"globe thistle\")\n",
        "print(flowers_list)"
      ],
      "metadata": {
        "colab": {
          "base_uri": "https://localhost:8080/"
        },
        "id": "cPDMBzX8quHB",
        "outputId": "cb3fcbd3-eaf8-4df2-f555-88cd4ee09910"
      },
      "execution_count": 6,
      "outputs": [
        {
          "output_type": "stream",
          "name": "stdout",
          "text": [
            "['pink primrose', 'hard-leaved pocket orchid', 'canterbury bells', 'sweet pea', 'english marigold', 'tiger lily', 'moon orchid', 'bird of paradise', 'monkshood']\n"
          ]
        }
      ]
    },
    {
      "cell_type": "code",
      "source": [
        "flowers_list.append(\"snapdragon\")\n",
        "print(flowers_list)"
      ],
      "metadata": {
        "colab": {
          "base_uri": "https://localhost:8080/"
        },
        "id": "JsijULWYq4tR",
        "outputId": "66c09934-bacf-44d3-e6b4-eb6d2600fe99"
      },
      "execution_count": 7,
      "outputs": [
        {
          "output_type": "stream",
          "name": "stdout",
          "text": [
            "['pink primrose', 'hard-leaved pocket orchid', 'canterbury bells', 'sweet pea', 'english marigold', 'tiger lily', 'moon orchid', 'bird of paradise', 'monkshood', 'snapdragon']\n"
          ]
        }
      ]
    },
    {
      "cell_type": "code",
      "source": [
        "hardcover_sales = [139, 128, 172, 139, 191, 168, 170]"
      ],
      "metadata": {
        "id": "k1p-lQUkq9Qd"
      },
      "execution_count": 8,
      "outputs": []
    },
    {
      "cell_type": "code",
      "source": [
        "print(\"Length of the list:\", len(hardcover_sales))\n",
        "print(\"Entry at index 2:\", hardcover_sales[2])"
      ],
      "metadata": {
        "colab": {
          "base_uri": "https://localhost:8080/"
        },
        "id": "gM42JrwarEec",
        "outputId": "243b5f3a-e787-4e79-90aa-f8dab468cbf4"
      },
      "execution_count": 9,
      "outputs": [
        {
          "output_type": "stream",
          "name": "stdout",
          "text": [
            "Length of the list: 7\n",
            "Entry at index 2: 172\n"
          ]
        }
      ]
    },
    {
      "cell_type": "code",
      "source": [],
      "metadata": {
        "id": "s4me06wZrJ5u"
      },
      "execution_count": null,
      "outputs": []
    }
  ]
}