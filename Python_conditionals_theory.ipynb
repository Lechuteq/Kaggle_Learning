{
  "nbformat": 4,
  "nbformat_minor": 0,
  "metadata": {
    "colab": {
      "provenance": [],
      "authorship_tag": "ABX9TyNgMHPd2vQZ0vof/KZiD272",
      "include_colab_link": true
    },
    "kernelspec": {
      "name": "python3",
      "display_name": "Python 3"
    },
    "language_info": {
      "name": "python"
    }
  },
  "cells": [
    {
      "cell_type": "markdown",
      "metadata": {
        "id": "view-in-github",
        "colab_type": "text"
      },
      "source": [
        "<a href=\"https://colab.research.google.com/github/Lechuteq/Kaggle_Learning/blob/main/Python_conditionals_theory.ipynb\" target=\"_parent\"><img src=\"https://colab.research.google.com/assets/colab-badge.svg\" alt=\"Open In Colab\"/></a>"
      ]
    },
    {
      "cell_type": "markdown",
      "source": [
        "Conditions and Conditional Statements"
      ],
      "metadata": {
        "id": "k8yXOQFekFYB"
      }
    },
    {
      "cell_type": "code",
      "source": [
        "print(2 > 3)"
      ],
      "metadata": {
        "colab": {
          "base_uri": "https://localhost:8080/"
        },
        "id": "ELenusLXkFrb",
        "outputId": "b28e4557-3ee3-42ff-f9a5-a42bb7db33c3"
      },
      "execution_count": 1,
      "outputs": [
        {
          "output_type": "stream",
          "name": "stdout",
          "text": [
            "False\n"
          ]
        }
      ]
    },
    {
      "cell_type": "code",
      "source": [
        "var_one = 1\n",
        "var_two = 2\n",
        "\n",
        "print(var_one < 1)\n",
        "print(var_two >= var_one)"
      ],
      "metadata": {
        "colab": {
          "base_uri": "https://localhost:8080/"
        },
        "id": "ucYG56gEkhLt",
        "outputId": "3bc24de3-24e4-4e6c-f174-fcbe94b539f8"
      },
      "execution_count": 2,
      "outputs": [
        {
          "output_type": "stream",
          "name": "stdout",
          "text": [
            "False\n",
            "True\n"
          ]
        }
      ]
    },
    {
      "cell_type": "code",
      "source": [
        "def evaluate_temp(temp):\n",
        "    # Set an initial message\n",
        "    message = \"Normal temperature.\"\n",
        "    # Update value of message only if temperature greater than 38\n",
        "    if temp > 38:\n",
        "        message = \"Fever!\"\n",
        "    return message"
      ],
      "metadata": {
        "id": "7hig8Ouzkkum"
      },
      "execution_count": 3,
      "outputs": []
    },
    {
      "cell_type": "code",
      "source": [
        "print(evaluate_temp(37))"
      ],
      "metadata": {
        "colab": {
          "base_uri": "https://localhost:8080/"
        },
        "id": "Tg_XM8EFkv0d",
        "outputId": "7a3ad606-a1ac-45ca-e961-305079c3f6b1"
      },
      "execution_count": 4,
      "outputs": [
        {
          "output_type": "stream",
          "name": "stdout",
          "text": [
            "Normal temperature.\n"
          ]
        }
      ]
    },
    {
      "cell_type": "code",
      "source": [
        "print(evaluate_temp(39))"
      ],
      "metadata": {
        "colab": {
          "base_uri": "https://localhost:8080/"
        },
        "id": "9KhSFivvkxiv",
        "outputId": "a64802cb-f5ca-40e3-ea03-a0417a12b58e"
      },
      "execution_count": 5,
      "outputs": [
        {
          "output_type": "stream",
          "name": "stdout",
          "text": [
            "Fever!\n"
          ]
        }
      ]
    },
    {
      "cell_type": "code",
      "source": [
        "def evaluate_temp_with_else(temp):\n",
        "    if temp > 38:\n",
        "        message = \"Fever!\"\n",
        "    else:\n",
        "        message = \"Normal temperature.\"\n",
        "    return message"
      ],
      "metadata": {
        "id": "QluN3G5Sk0v6"
      },
      "execution_count": 6,
      "outputs": []
    },
    {
      "cell_type": "code",
      "source": [
        "print(evaluate_temp_with_else(37))"
      ],
      "metadata": {
        "colab": {
          "base_uri": "https://localhost:8080/"
        },
        "id": "Ful82PjZk-Gl",
        "outputId": "0c6c57c4-b162-48ae-d2d7-baf630e7bb24"
      },
      "execution_count": 7,
      "outputs": [
        {
          "output_type": "stream",
          "name": "stdout",
          "text": [
            "Normal temperature.\n"
          ]
        }
      ]
    },
    {
      "cell_type": "code",
      "source": [
        "def evaluate_temp_with_elif(temp):\n",
        "    if temp > 38:\n",
        "        message = \"Fever!\"\n",
        "    elif temp > 35:\n",
        "        message = \"Normal temperature.\"\n",
        "    else:\n",
        "        message = \"Low temperature.\"\n",
        "    return message"
      ],
      "metadata": {
        "id": "_B1BryZSlHJd"
      },
      "execution_count": 8,
      "outputs": []
    },
    {
      "cell_type": "code",
      "source": [
        "evaluate_temp_with_elif(36)"
      ],
      "metadata": {
        "colab": {
          "base_uri": "https://localhost:8080/",
          "height": 35
        },
        "id": "zW6a2oP1lInt",
        "outputId": "1d3d8bd9-7dd8-44f7-d569-3ee658521ce2"
      },
      "execution_count": 9,
      "outputs": [
        {
          "output_type": "execute_result",
          "data": {
            "text/plain": [
              "'Normal temperature.'"
            ],
            "application/vnd.google.colaboratory.intrinsic+json": {
              "type": "string"
            }
          },
          "metadata": {},
          "execution_count": 9
        }
      ]
    },
    {
      "cell_type": "code",
      "source": [
        "evaluate_temp_with_elif(34)"
      ],
      "metadata": {
        "colab": {
          "base_uri": "https://localhost:8080/",
          "height": 35
        },
        "id": "-6UZfGpAlL1B",
        "outputId": "fe808a21-a06a-4859-d699-2a221b6bacfe"
      },
      "execution_count": 10,
      "outputs": [
        {
          "output_type": "execute_result",
          "data": {
            "text/plain": [
              "'Low temperature.'"
            ],
            "application/vnd.google.colaboratory.intrinsic+json": {
              "type": "string"
            }
          },
          "metadata": {},
          "execution_count": 10
        }
      ]
    },
    {
      "cell_type": "code",
      "source": [
        "def get_taxes(earnings):\n",
        "    if earnings < 12000:\n",
        "        tax_owed = .25 * earnings\n",
        "    else:\n",
        "        tax_owed = .30 * earnings\n",
        "    return tax_owed"
      ],
      "metadata": {
        "id": "ACDe3QaVlPOm"
      },
      "execution_count": 11,
      "outputs": []
    },
    {
      "cell_type": "code",
      "source": [
        "ana_taxes = get_taxes(9000)\n",
        "bob_taxes = get_taxes(15000)\n",
        "\n",
        "print(ana_taxes)\n",
        "print(bob_taxes)"
      ],
      "metadata": {
        "colab": {
          "base_uri": "https://localhost:8080/"
        },
        "id": "IXF-oYBOlUNq",
        "outputId": "461b689c-af29-4cf0-b30f-6297f38d9dcc"
      },
      "execution_count": 12,
      "outputs": [
        {
          "output_type": "stream",
          "name": "stdout",
          "text": [
            "2250.0\n",
            "4500.0\n"
          ]
        }
      ]
    },
    {
      "cell_type": "code",
      "source": [
        "def add_three_or_eight(number):\n",
        "    if number < 10:\n",
        "        result = number + 3\n",
        "    else:\n",
        "        result = number + 8\n",
        "    return result"
      ],
      "metadata": {
        "id": "Hd7BA_mnlYQ9"
      },
      "execution_count": 13,
      "outputs": []
    },
    {
      "cell_type": "code",
      "source": [
        "def get_dose(weight):\n",
        "    # Dosage is 1.25 ml for anyone under 5.2 kg\n",
        "    if weight < 5.2:\n",
        "        dose = 1.25\n",
        "    elif weight < 7.9:\n",
        "        dose = 2.5\n",
        "    elif weight < 10.4:\n",
        "        dose = 3.75\n",
        "    elif weight < 15.9:\n",
        "        dose = 5\n",
        "    elif weight < 21.2:\n",
        "        dose = 7.5\n",
        "    # Dosage is 10 ml for anyone 21.2 kg or over\n",
        "    else:\n",
        "        dose = 10\n",
        "    return dose"
      ],
      "metadata": {
        "id": "jaMnN_qflh1L"
      },
      "execution_count": 14,
      "outputs": []
    },
    {
      "cell_type": "code",
      "source": [
        "print(get_dose(12))"
      ],
      "metadata": {
        "colab": {
          "base_uri": "https://localhost:8080/"
        },
        "id": "p87tCgR9ln7u",
        "outputId": "7c731f23-c053-4d59-c6ed-3b6b60b152d5"
      },
      "execution_count": 15,
      "outputs": [
        {
          "output_type": "stream",
          "name": "stdout",
          "text": [
            "5\n"
          ]
        }
      ]
    },
    {
      "cell_type": "code",
      "source": [],
      "metadata": {
        "id": "i7NpjyFklrdy"
      },
      "execution_count": null,
      "outputs": []
    }
  ]
}