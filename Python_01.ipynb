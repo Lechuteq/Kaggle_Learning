{
  "nbformat": 4,
  "nbformat_minor": 0,
  "metadata": {
    "colab": {
      "provenance": [],
      "authorship_tag": "ABX9TyMlf9vpXNrXnUBhmDaO8RdZ",
      "include_colab_link": true
    },
    "kernelspec": {
      "name": "python3",
      "display_name": "Python 3"
    },
    "language_info": {
      "name": "python"
    }
  },
  "cells": [
    {
      "cell_type": "markdown",
      "metadata": {
        "id": "view-in-github",
        "colab_type": "text"
      },
      "source": [
        "<a href=\"https://colab.research.google.com/github/Lechuteq/Kaggle_Learning/blob/main/Python_01.ipynb\" target=\"_parent\"><img src=\"https://colab.research.google.com/assets/colab-badge.svg\" alt=\"Open In Colab\"/></a>"
      ]
    },
    {
      "cell_type": "markdown",
      "source": [
        "Hello, Python"
      ],
      "metadata": {
        "id": "pMnF1qeiMvNd"
      }
    },
    {
      "cell_type": "code",
      "source": [
        "spam_amount = 0\n",
        "print(spam_amount)\n",
        "\n",
        "# Ordering Spam, egg, Spam, Spam, bacon and Spam (4 more servings of Spam)\n",
        "spam_amount = spam_amount + 4\n",
        "\n",
        "if spam_amount > 0:\n",
        "    print(\"But I don't want ANY spam!\")\n",
        "\n",
        "viking_song = \"Spam \" * spam_amount\n",
        "print(viking_song)"
      ],
      "metadata": {
        "colab": {
          "base_uri": "https://localhost:8080/"
        },
        "id": "aKrLFIxqMvhU",
        "outputId": "b304de6a-e0fe-4519-c92f-f1b48da3d40b"
      },
      "execution_count": 1,
      "outputs": [
        {
          "output_type": "stream",
          "name": "stdout",
          "text": [
            "0\n",
            "But I don't want ANY spam!\n",
            "Spam Spam Spam Spam \n"
          ]
        }
      ]
    },
    {
      "cell_type": "markdown",
      "source": [
        "Numbers and arithmetic in Python"
      ],
      "metadata": {
        "id": "cjqPckFhkVZ_"
      }
    },
    {
      "cell_type": "code",
      "source": [
        "spam_amount = 0"
      ],
      "metadata": {
        "id": "CMNOSbFgkW24"
      },
      "execution_count": 2,
      "outputs": []
    },
    {
      "cell_type": "code",
      "source": [
        "type(spam_amount)"
      ],
      "metadata": {
        "colab": {
          "base_uri": "https://localhost:8080/"
        },
        "id": "sePQcK99kcAl",
        "outputId": "8460d98c-e2b7-49e8-95f3-43cca6f93d69"
      },
      "execution_count": 3,
      "outputs": [
        {
          "output_type": "execute_result",
          "data": {
            "text/plain": [
              "int"
            ]
          },
          "metadata": {},
          "execution_count": 3
        }
      ]
    },
    {
      "cell_type": "code",
      "source": [
        "type(19.95)"
      ],
      "metadata": {
        "colab": {
          "base_uri": "https://localhost:8080/"
        },
        "id": "USy5Goi5kf29",
        "outputId": "43334e38-c751-49c9-99f9-a2c7cf5ba441"
      },
      "execution_count": 4,
      "outputs": [
        {
          "output_type": "execute_result",
          "data": {
            "text/plain": [
              "float"
            ]
          },
          "metadata": {},
          "execution_count": 4
        }
      ]
    },
    {
      "cell_type": "code",
      "source": [
        "print(5 / 2)\n",
        "print(6 / 2)"
      ],
      "metadata": {
        "colab": {
          "base_uri": "https://localhost:8080/"
        },
        "id": "PtB4_HbXlNJs",
        "outputId": "2f226706-d246-42e9-c4b1-15085e38e08c"
      },
      "execution_count": 5,
      "outputs": [
        {
          "output_type": "stream",
          "name": "stdout",
          "text": [
            "2.5\n",
            "3.0\n"
          ]
        }
      ]
    },
    {
      "cell_type": "code",
      "source": [
        "print(5 // 2)\n",
        "print(6 // 2)"
      ],
      "metadata": {
        "colab": {
          "base_uri": "https://localhost:8080/"
        },
        "id": "yYpyl7L_lOQ7",
        "outputId": "365fe1f0-3c05-409f-db88-43f74aaaa05a"
      },
      "execution_count": 6,
      "outputs": [
        {
          "output_type": "stream",
          "name": "stdout",
          "text": [
            "2\n",
            "3\n"
          ]
        }
      ]
    },
    {
      "cell_type": "code",
      "source": [
        "8 - 3 + 2"
      ],
      "metadata": {
        "colab": {
          "base_uri": "https://localhost:8080/"
        },
        "id": "uF6RN-2JlUDp",
        "outputId": "4aae57f3-40eb-4135-fc48-a527a0e8c663"
      },
      "execution_count": 7,
      "outputs": [
        {
          "output_type": "execute_result",
          "data": {
            "text/plain": [
              "7"
            ]
          },
          "metadata": {},
          "execution_count": 7
        }
      ]
    },
    {
      "cell_type": "code",
      "source": [
        "-3 + 4 * 2"
      ],
      "metadata": {
        "colab": {
          "base_uri": "https://localhost:8080/"
        },
        "id": "2IDa85Ojla2m",
        "outputId": "137f5654-7436-4412-934a-7b5bd0d0e46a"
      },
      "execution_count": 8,
      "outputs": [
        {
          "output_type": "execute_result",
          "data": {
            "text/plain": [
              "5"
            ]
          },
          "metadata": {},
          "execution_count": 8
        }
      ]
    },
    {
      "cell_type": "code",
      "source": [
        "hat_height_cm = 25\n",
        "my_height_cm = 190\n",
        "# How tall am I, in meters, when wearing my hat?\n",
        "total_height_meters = hat_height_cm + my_height_cm / 100\n",
        "print(\"Height in meters =\", total_height_meters, \"?\")"
      ],
      "metadata": {
        "colab": {
          "base_uri": "https://localhost:8080/"
        },
        "id": "lLs6zRw3ldl1",
        "outputId": "f878b0bd-30c8-438c-fe8c-78105ed73981"
      },
      "execution_count": 9,
      "outputs": [
        {
          "output_type": "stream",
          "name": "stdout",
          "text": [
            "Height in meters = 26.9 ?\n"
          ]
        }
      ]
    },
    {
      "cell_type": "code",
      "source": [],
      "metadata": {
        "id": "IuarcPHGlkzU"
      },
      "execution_count": null,
      "outputs": []
    }
  ]
}