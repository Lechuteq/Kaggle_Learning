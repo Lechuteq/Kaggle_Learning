{
  "nbformat": 4,
  "nbformat_minor": 0,
  "metadata": {
    "colab": {
      "provenance": [],
      "authorship_tag": "ABX9TyNNE38aC6YspmiHgaQWY1j2",
      "include_colab_link": true
    },
    "kernelspec": {
      "name": "python3",
      "display_name": "Python 3"
    },
    "language_info": {
      "name": "python"
    }
  },
  "cells": [
    {
      "cell_type": "markdown",
      "metadata": {
        "id": "view-in-github",
        "colab_type": "text"
      },
      "source": [
        "<a href=\"https://colab.research.google.com/github/Lechuteq/Kaggle_Learning/blob/main/test.ipynb\" target=\"_parent\"><img src=\"https://colab.research.google.com/assets/colab-badge.svg\" alt=\"Open In Colab\"/></a>"
      ]
    },
    {
      "cell_type": "markdown",
      "source": [],
      "metadata": {
        "id": "JG9-pYJcvCTX"
      }
    },
    {
      "cell_type": "code",
      "source": [
        "'''# Do not change: Number of customers each day for the last month\n",
        "num_customers = [137, 147, 135, 128, 170, 174, 165, 146, 126, 159,\n",
        "                 141, 148, 132, 147, 168, 153, 170, 161, 148, 152,\n",
        "                 141, 151, 131, 149, 164, 163, 143, 143, 166, 171]\n",
        "\n",
        "# TODO: Fill in values for the variables below\n",
        "avg_first_seven = sum(num_customers[:6])/len(num_customers[:6])\n",
        "print(sum(num_customers[:6]))\n",
        "print(len(num_customers[:6]))\n",
        "print(avg_first_seven)\n",
        "print()\n",
        "avg_last_seven = sum(num_customers[:-7])/len(num_customers[:-7])\n",
        "print(num_customers[-7:])\n",
        "print(len(num_customers[-7:]))\n",
        "print(avg_last_seven)\n",
        "'''\n",
        "\n",
        "'''\n",
        "def percentage_liked(ratings):\n",
        "    list_liked = [i>=4 for i in ratings]\n",
        "    # TODO: Complete the function\n",
        "    percentage_liked = sum(list_liked)/len(list_liked)\n",
        "    return percentage_liked\n",
        "\n",
        "# Do not change: should return 0.5\n",
        "print(percentage_liked([1, 2, 3, 4, 5, 4, 5, 1]))\n",
        "'''\n",
        "def percentage_growth(num_users, yrs_ago):\n",
        "    growth = abs(num_users[len(num_users)-1-yrs_ago] - num_users[len(num_users)-yrs_ago])/num_users[len(num_users)-yrs_ago]\n",
        "    return growth\n",
        "\n",
        "# Do not change: Variable for calculating some test examples\n",
        "num_users_test = [920344, 1043553, 1204334, 1458996, 1503323, 1593432, 1623463, 1843064, 1930992, 2001078]\n",
        "\n",
        "# Do not change: Should return .036\n",
        "print(percentage_growth(num_users_test, 2))\n",
        "print((num_users_test[len(num_users_test)-2]))"
      ],
      "metadata": {
        "colab": {
          "base_uri": "https://localhost:8080/"
        },
        "id": "L3CNRSxrvDaY",
        "outputId": "2e49aaaf-2455-4419-f5cd-159abcd6fcbb"
      },
      "execution_count": 14,
      "outputs": [
        {
          "output_type": "stream",
          "name": "stdout",
          "text": [
            "0.04553514463032472\n",
            "1930992\n"
          ]
        }
      ]
    }
  ]
}