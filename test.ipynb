{
  "nbformat": 4,
  "nbformat_minor": 0,
  "metadata": {
    "colab": {
      "provenance": [],
      "authorship_tag": "ABX9TyOh7bc0ulJ5UQOfYqw3KP/n",
      "include_colab_link": true
    },
    "kernelspec": {
      "name": "python3",
      "display_name": "Python 3"
    },
    "language_info": {
      "name": "python"
    }
  },
  "cells": [
    {
      "cell_type": "markdown",
      "metadata": {
        "id": "view-in-github",
        "colab_type": "text"
      },
      "source": [
        "<a href=\"https://colab.research.google.com/github/Lechuteq/Kaggle_Learning/blob/main/test.ipynb\" target=\"_parent\"><img src=\"https://colab.research.google.com/assets/colab-badge.svg\" alt=\"Open In Colab\"/></a>"
      ]
    },
    {
      "cell_type": "markdown",
      "source": [],
      "metadata": {
        "id": "JG9-pYJcvCTX"
      }
    },
    {
      "cell_type": "code",
      "source": [
        "'''# Do not change: Number of customers each day for the last month\n",
        "num_customers = [137, 147, 135, 128, 170, 174, 165, 146, 126, 159,\n",
        "                 141, 148, 132, 147, 168, 153, 170, 161, 148, 152,\n",
        "                 141, 151, 131, 149, 164, 163, 143, 143, 166, 171]\n",
        "\n",
        "# TODO: Fill in values for the variables below\n",
        "avg_first_seven = sum(num_customers[:6])/len(num_customers[:6])\n",
        "print(sum(num_customers[:6]))\n",
        "print(len(num_customers[:6]))\n",
        "print(avg_first_seven)\n",
        "print()\n",
        "avg_last_seven = sum(num_customers[:-7])/len(num_customers[:-7])\n",
        "print(num_customers[-7:])\n",
        "print(len(num_customers[-7:]))\n",
        "print(avg_last_seven)\n",
        "'''\n",
        "\n",
        "'''\n",
        "def percentage_liked(ratings):\n",
        "    list_liked = [i>=4 for i in ratings]\n",
        "    # TODO: Complete the function\n",
        "    percentage_liked = sum(list_liked)/len(list_liked)\n",
        "    return percentage_liked\n",
        "\n",
        "# Do not change: should return 0.5\n",
        "print(percentage_liked([1, 2, 3, 4, 5, 4, 5, 1]))\n",
        "'''\n",
        "\n",
        "'''\n",
        "def percentage_growth(num_users, yrs_ago):\n",
        "    growth = (num_users[len(num_users)-1] - num_users[len(num_users)-yrs_ago-1])/num_users[len(num_users)-yrs_ago-1]\n",
        "    return growth\n",
        "\n",
        "# Do not change: Variable for calculating some test examples\n",
        "num_users_test = [920344, 1043553, 1204334, 1458996, 1503323, 1593432, 1623463, 1843064, 1930992, 2001078]\n",
        "\n",
        "# Do not change: Should return .036\n",
        "yrs_ago=7\n",
        "print(percentage_growth(num_users_test, 1))\n",
        "print((num_users_test[len(num_users_test)-1]))\n",
        "print()\n",
        "print(num_users_test[len(num_users_test)-yrs_ago])\n",
        "print(num_users_test[len(num_users_test)-yrs_ago-1])\n",
        "print(num_users_test[len(num_users_test)-yrs_ago-2])\n",
        "'''\n",
        "\n"
      ],
      "metadata": {
        "colab": {
          "base_uri": "https://localhost:8080/"
        },
        "id": "L3CNRSxrvDaY",
        "outputId": "0e69829b-e534-41a2-924f-504c6743f710"
      },
      "execution_count": null,
      "outputs": [
        {
          "output_type": "stream",
          "name": "stdout",
          "text": [
            "0.03629533421163837\n",
            "2001078\n",
            "\n",
            "1458996\n",
            "1204334\n",
            "1043553\n"
          ]
        }
      ]
    },
    {
      "cell_type": "code",
      "source": [
        "r = [\"Mario\", \"Bowser\", \"Luigi\"]\n",
        "\n",
        "def purple_shell(racers):\n",
        "    racers[-1],racers[0]=racers[0],racers[-1]\n",
        "    return racers\n",
        "\n",
        "purple_shell(r)"
      ],
      "metadata": {
        "id": "kkPEd5KTDIkk",
        "colab": {
          "base_uri": "https://localhost:8080/"
        },
        "outputId": "ec722371-2fd1-45c5-c293-2b14cd10e015"
      },
      "execution_count": null,
      "outputs": [
        {
          "output_type": "execute_result",
          "data": {
            "text/plain": [
              "['Luigi', 'Bowser', 'Mario']"
            ]
          },
          "metadata": {},
          "execution_count": 9
        }
      ]
    },
    {
      "cell_type": "code",
      "source": [
        "arrivals=['Adela', 'Fleda', 'Owen', 'May', 'Mona', 'Gilbert', 'Ford']\n",
        "#arrivals=['Paul', 'John', 'Ringo', 'George']\n",
        "name='Mona'\n",
        "#name='Ringo'\n",
        "def fashionably_late(arrivals, name):\n",
        "    \"\"\"Given an ordered list of arrivals to the party and a name, return whether the guest with that\n",
        "    name was fashionably late.\n",
        "    \"\"\"\n",
        "    if name in arrivals[int(0.5+len(arrivals)/2):-1]:\n",
        "        return True\n",
        "    else:\n",
        "        return False\n",
        "\n",
        "print(fashionably_late(arrivals, name))\n",
        "print(len(arrivals))\n",
        "print(arrivals[int(len(arrivals)/2):-1])\n",
        "print(int(3.5))"
      ],
      "metadata": {
        "colab": {
          "base_uri": "https://localhost:8080/"
        },
        "id": "bVcTGqm4iDAp",
        "outputId": "a8458071-8644-4d9d-a321-e611197bca6d"
      },
      "execution_count": null,
      "outputs": [
        {
          "output_type": "stream",
          "name": "stdout",
          "text": [
            "True\n",
            "7\n",
            "['May', 'Mona', 'Gilbert']\n",
            "3\n"
          ]
        }
      ]
    },
    {
      "cell_type": "code",
      "source": [
        "a=[1,2,3,4,5,6,7,8,9,10,11,12,13,14,15]\n",
        "\n",
        "def has_lucky_number(nums):\n",
        "    \"\"\"Return whether the given list of numbers is lucky. A lucky list contains\n",
        "    at least one number divisible by 7.\n",
        "    \"\"\"\n",
        "    for num in nums:\n",
        "        print(num)\n",
        "        if num % 7 == 0:\n",
        "            return True\n",
        "        #else:\n",
        "        #    return False\n",
        "    return False\n",
        "has_lucky_number(a)"
      ],
      "metadata": {
        "id": "en4z0jf8l46e",
        "colab": {
          "base_uri": "https://localhost:8080/"
        },
        "outputId": "128e689d-ee46-4478-b0c0-25ba8e62247e"
      },
      "execution_count": null,
      "outputs": [
        {
          "output_type": "stream",
          "name": "stdout",
          "text": [
            "1\n",
            "2\n",
            "3\n",
            "4\n",
            "5\n",
            "6\n",
            "7\n"
          ]
        },
        {
          "output_type": "execute_result",
          "data": {
            "text/plain": [
              "True"
            ]
          },
          "metadata": {},
          "execution_count": 9
        }
      ]
    },
    {
      "cell_type": "code",
      "source": [
        "a=[1,2,3,4,5,6]\n",
        "def elementwise_greater_than(L, thresh):\n",
        "    \"\"\"Return a list with the same length as L, where the value at index i is\n",
        "    True if L[i] is greater than thresh, and False otherwise.\n",
        "\n",
        "    >>> elementwise_greater_than([1, 2, 3, 4], 2)\n",
        "    [False, False, True, True]\n",
        "    \"\"\"\n",
        "    out=[]\n",
        "    for el in L:\n",
        "        #print(el)\n",
        "        if el>thresh:\n",
        "            out.append(True)\n",
        "        else:\n",
        "          out.append(False)\n",
        "    return out\n",
        "elementwise_greater_than(a,4)"
      ],
      "metadata": {
        "colab": {
          "base_uri": "https://localhost:8080/"
        },
        "id": "4Ltzlg9Y5bKJ",
        "outputId": "b2bf917a-939c-41ea-8b9e-fee7a53410f0"
      },
      "execution_count": null,
      "outputs": [
        {
          "output_type": "execute_result",
          "data": {
            "text/plain": [
              "[False, False, False, False, True, True]"
            ]
          },
          "metadata": {},
          "execution_count": 15
        }
      ]
    },
    {
      "cell_type": "code",
      "source": [
        "food=['a','b','c','d','d','e']\n",
        "\n",
        "def menu_is_boring(meals):\n",
        "    \"\"\"Given a list of meals served over some period of time, return True if the\n",
        "    same meal has ever been served two days in a row, and False otherwise.\n",
        "    \"\"\"\n",
        "    for i in range(len(meals)-1):\n",
        "        if meals[i] == meals[i+1]:\n",
        "            return True\n",
        "    return False\n",
        "menu_is_boring(food)"
      ],
      "metadata": {
        "colab": {
          "base_uri": "https://localhost:8080/"
        },
        "id": "HFKm6rWq8Atp",
        "outputId": "312ea2a2-80e5-49d7-edfd-d0a925dc477d"
      },
      "execution_count": null,
      "outputs": [
        {
          "output_type": "execute_result",
          "data": {
            "text/plain": [
              "True"
            ]
          },
          "metadata": {},
          "execution_count": 25
        }
      ]
    },
    {
      "cell_type": "code",
      "source": [
        "n=20\n",
        "def estimate_average_slot_payout(n_runs):\n",
        "    \"\"\"Run the slot machine n_runs times and return the average net profit per run.\n",
        "    Example calls (note that return value is nondeterministic!):\n",
        "    >>> estimate_average_slot_payout(1)\n",
        "    -1\n",
        "    >>> estimate_average_slot_payout(1)\n",
        "    0.5\n",
        "    \"\"\"\n",
        "    estimate=0\n",
        "    for i in range(n_runs):\n",
        "        print(i)\n",
        "        estimate = estimate+1\n",
        "    return float(estimate) / n_runs\n",
        "estimate_average_slot_payout(n)\n"
      ],
      "metadata": {
        "colab": {
          "base_uri": "https://localhost:8080/"
        },
        "id": "IYihHC0I-bA1",
        "outputId": "334a53b1-19e3-4781-e8c9-9f01d7b22085"
      },
      "execution_count": null,
      "outputs": [
        {
          "output_type": "stream",
          "name": "stdout",
          "text": [
            "0\n",
            "1\n",
            "2\n",
            "3\n",
            "4\n",
            "5\n",
            "6\n",
            "7\n",
            "8\n",
            "9\n",
            "10\n",
            "11\n",
            "12\n",
            "13\n",
            "14\n",
            "15\n",
            "16\n",
            "17\n",
            "18\n",
            "19\n"
          ]
        },
        {
          "output_type": "execute_result",
          "data": {
            "text/plain": [
              "1.0"
            ]
          },
          "metadata": {},
          "execution_count": 29
        }
      ]
    },
    {
      "cell_type": "code",
      "source": [],
      "metadata": {
        "id": "a9-hJi-U2uGO"
      },
      "execution_count": null,
      "outputs": []
    }
  ]
}